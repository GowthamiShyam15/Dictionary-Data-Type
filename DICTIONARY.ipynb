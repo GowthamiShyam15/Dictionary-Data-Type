{
 "cells": [
  {
   "cell_type": "markdown",
   "id": "0658476b",
   "metadata": {},
   "source": [
    "# Dictionary"
   ]
  },
  {
   "cell_type": "markdown",
   "id": "f95d5450",
   "metadata": {},
   "source": [
    "- It is a sequence DT,where it is used to store multiple items of different datatypes in the format of \"key:value\".\n",
    "- key:value pair we call as \"items\".\n",
    "- It is represented by \"{ }\".\n",
    "- It is a ordered datatypes.\n",
    "- It won't support duplicate keys but can have duplicate values.\n",
    "- It is a MUTABLE DT.\n",
    "- It is also called \"mapping function\"."
   ]
  },
  {
   "cell_type": "code",
   "execution_count": 19,
   "id": "a14e2f26",
   "metadata": {},
   "outputs": [
    {
     "name": "stdout",
     "output_type": "stream",
     "text": [
      "{'name': 'laxmi', 'age': 45, 'rollno': 101, 'course': 'python', 'name1': 'laxmi'}\n",
      "<class 'dict'>\n"
     ]
    }
   ],
   "source": [
    "#create a dictionary\n",
    "\n",
    "d = {\"name\":\"laxmi\",\"age\":45,\"rollno\":101,\"course\":\"python\",\"name1\":\"laxmi\"}\n",
    "print(d)\n",
    "print(type(d))"
   ]
  },
  {
   "cell_type": "code",
   "execution_count": 20,
   "id": "c14172b6",
   "metadata": {},
   "outputs": [
    {
     "name": "stdout",
     "output_type": "stream",
     "text": [
      "dict_keys(['name', 'age', 'rollno', 'course', 'name1'])\n"
     ]
    }
   ],
   "source": [
    "#keys()\n",
    "print(d.keys())"
   ]
  },
  {
   "cell_type": "code",
   "execution_count": 21,
   "id": "33cc4c7e",
   "metadata": {},
   "outputs": [
    {
     "name": "stdout",
     "output_type": "stream",
     "text": [
      "dict_values(['laxmi', 45, 101, 'python', 'laxmi'])\n"
     ]
    }
   ],
   "source": [
    "#values()\n",
    "print(d.values())"
   ]
  },
  {
   "cell_type": "code",
   "execution_count": 24,
   "id": "7392b9d4",
   "metadata": {},
   "outputs": [
    {
     "name": "stdout",
     "output_type": "stream",
     "text": [
      "dict_items([('name', 'laxmi'), ('age', 45), ('rollno', 101), ('course', 'python'), ('name1', 'laxmi')])\n"
     ]
    }
   ],
   "source": [
    "#items()\n",
    "print(d.items())"
   ]
  },
  {
   "cell_type": "code",
   "execution_count": 28,
   "id": "03f23f46",
   "metadata": {},
   "outputs": [
    {
     "name": "stdout",
     "output_type": "stream",
     "text": [
      "name -> laxmi\n",
      "age -> 45\n",
      "rollno -> 101\n",
      "course -> python\n",
      "name1 -> laxmi\n"
     ]
    }
   ],
   "source": [
    "#iterate the dictionary\n",
    "\n",
    "for i,j in d.items():\n",
    "    print(i,\"->\",j)"
   ]
  },
  {
   "cell_type": "code",
   "execution_count": 29,
   "id": "2a8f7c0a",
   "metadata": {},
   "outputs": [
    {
     "name": "stdout",
     "output_type": "stream",
     "text": [
      "{'name': 'laxmi', 'age': 45, 'rollno': 101, 'course': 'python', 'address': 'delhi'}\n",
      "{'name': 'laxmi', 'age': 45, 'rollno': 101, 'course': 'python', 'address': 'delhi'}\n"
     ]
    }
   ],
   "source": [
    "#Create a new dictionary where it contains all items of given dictionary-\n",
    "\n",
    "d = {\"name\":\"laxmi\",\"age\":45,\"rollno\":101,\"course\":\"python\",\"address\":\"delhi\"}\n",
    "print(d)\n",
    "#empty dictionary\n",
    "d1 = {}\n",
    "d1.update(d)\n",
    "print(d1)"
   ]
  },
  {
   "cell_type": "markdown",
   "id": "5230499f",
   "metadata": {},
   "source": [
    "# Dictionary Comprehension"
   ]
  },
  {
   "cell_type": "code",
   "execution_count": 30,
   "id": "4f28b737",
   "metadata": {},
   "outputs": [
    {
     "name": "stdout",
     "output_type": "stream",
     "text": [
      "{'name': 'laxmi', 'age': 45, 'rollno': 101, 'course': 'python', 'address': 'delhi'}\n",
      "{'name': 'laxmi', 'age': 45, 'rollno': 101, 'course': 'python', 'address': 'delhi'}\n"
     ]
    }
   ],
   "source": [
    "a = {\"name\":\"laxmi\",\"age\":45,\"rollno\":101,\"course\":\"python\",\"address\":\"delhi\"}\n",
    "print(a)\n",
    "\n",
    "b = {i:j for i,j in a.items()}\n",
    "print(b)"
   ]
  },
  {
   "cell_type": "code",
   "execution_count": 31,
   "id": "799889f4",
   "metadata": {},
   "outputs": [
    {
     "name": "stdout",
     "output_type": "stream",
     "text": [
      "{1: 1, 2: 8, 3: 27, 4: 64, 5: 125}\n"
     ]
    }
   ],
   "source": [
    "#create a new dictionary where it contains keys as first 5 natural numbers and values as their cubes.\n",
    "\n",
    "x = {}\n",
    "for i in range(1,6):\n",
    "    x[i]=i**3\n",
    "print(x)"
   ]
  },
  {
   "cell_type": "code",
   "execution_count": 32,
   "id": "ea0c27de",
   "metadata": {},
   "outputs": [
    {
     "name": "stdout",
     "output_type": "stream",
     "text": [
      "{1: 1, 2: 8, 3: 27, 4: 64, 5: 125}\n"
     ]
    }
   ],
   "source": [
    "#create a new dictionary where it contains keys as first 5 natural numbers \n",
    "#and values as their cubes using dictionary comprehension.\n",
    "\n",
    "x1 = {i:i**3 for i in range(1,6)}\n",
    "print(x1)"
   ]
  },
  {
   "cell_type": "code",
   "execution_count": 35,
   "id": "7a3b75bc",
   "metadata": {},
   "outputs": [
    {
     "name": "stdout",
     "output_type": "stream",
     "text": [
      "{'name': 'laxmi', 'age': 56, 'course': 'python', 'brother': 'harish'}\n"
     ]
    }
   ],
   "source": [
    "#zip()\n",
    "\n",
    "l1 = [\"name\",\"age\",\"course\",\"brother\"] #list of keys\n",
    "l = [\"laxmi\",56,\"python\",\"harish\"]  #list of values\n",
    "\n",
    "#convert into dictionary\n",
    "d = dict(zip(l1,l))\n",
    "print(d)"
   ]
  },
  {
   "cell_type": "code",
   "execution_count": 39,
   "id": "3f32536e",
   "metadata": {},
   "outputs": [
    {
     "name": "stdout",
     "output_type": "stream",
     "text": [
      "Iam Harsha "
     ]
    }
   ],
   "source": [
    "l1 = [\"I\",\"Har\"]\n",
    "l2 = [\"am\",\"sha\"]\n",
    "zipped = zip(l1,l2)\n",
    "for i,j in zipped:\n",
    "    print(i+j,end=\" \")"
   ]
  },
  {
   "cell_type": "code",
   "execution_count": 40,
   "id": "2defe84f",
   "metadata": {},
   "outputs": [
    {
     "name": "stdout",
     "output_type": "stream",
     "text": [
      "{'name': 'sai', 'age': 30, 'salary': 45000}\n"
     ]
    }
   ],
   "source": [
    "#WAP to convert two tuples into a dictionary-\n",
    "t1 = (\"name\",\"age\",\"salary\")\n",
    "t2 = (\"sai\",30,45000)\n",
    "\n",
    "z = dict(zip(t1,t2))\n",
    "print(z)\n"
   ]
  },
  {
   "cell_type": "code",
   "execution_count": 52,
   "id": "e6b63e96",
   "metadata": {},
   "outputs": [
    {
     "name": "stdout",
     "output_type": "stream",
     "text": [
      "{'name': 'sai', 'age': 30, 'salary': 45000}\n"
     ]
    }
   ],
   "source": [
    "#WAP to convert two tuples into a dictionary without zip():\n",
    "t1 = (\"name\",\"age\",\"salary\")\n",
    "t2 = (\"sai\",30,45000)\n",
    "d = {} #empty dictionary\n",
    "for i in range(len(t1)):\n",
    "    d[t1[i]]=t2[i]\n",
    "print(d)\n"
   ]
  },
  {
   "cell_type": "code",
   "execution_count": 54,
   "id": "62b6823d",
   "metadata": {},
   "outputs": [
    {
     "name": "stdout",
     "output_type": "stream",
     "text": [
      "{'name': 'sai', 'age': 30, 'salary': 45000}\n",
      "{'name': 'sai', 'age': 30, 'salary': 45000}\n"
     ]
    }
   ],
   "source": [
    "#WAP to convert two tuples into a dictionary using dictionary comprehension-\n",
    "t1 = (\"name\",\"age\",\"salary\")\n",
    "t2 = (\"sai\",30,45000)\n",
    "\n",
    "d1 = {t1[i]:t2[i] for i in range(len(t1))} #without zip()\n",
    "print(d1)\n",
    "\n",
    "d2 = {i:j for i,j in zip(t1,t2)}  #with zip()\n",
    "print(d2)"
   ]
  },
  {
   "cell_type": "code",
   "execution_count": 56,
   "id": "fc716f79",
   "metadata": {},
   "outputs": [
    {
     "name": "stdout",
     "output_type": "stream",
     "text": [
      "sum of values from dictionary: 144\n",
      "144\n"
     ]
    }
   ],
   "source": [
    "#WAP to sum all the values from the dictionary\n",
    "d = {\"n1\":100,\"n2\":56,\"n3\":-90,\"n4\":78}\n",
    "\n",
    "s = 0\n",
    "for i in d.values():\n",
    "    s = s+i\n",
    "print(\"sum of values from dictionary:\",s)\n",
    "\n",
    "#print(sum(d.values()))"
   ]
  },
  {
   "cell_type": "code",
   "execution_count": 40,
   "id": "0ee17504",
   "metadata": {},
   "outputs": [
    {
     "name": "stdout",
     "output_type": "stream",
     "text": [
      "[500, 345, 200, 456]\n",
      "Minimum value: 200\n",
      "Maximum value: 500\n"
     ]
    }
   ],
   "source": [
    "#WAP to get the maximum amd minimum values of a dictionary-\n",
    "d = {\"n1\":500,\"n2\":345,\"n3\":200,\"n4\":456}\n",
    "d1 =list(d.values())\n",
    "print(d1)\n",
    "min_val = d1[0]  #200\n",
    "max_val = d1[0]  #500\n",
    "\n",
    "for i in d1: #i==456\n",
    "    if min_val>i:#345>456\n",
    "        min_val = i\n",
    "    elif max_val<i:#500<456\n",
    "        max_val = i\n",
    "print(\"Minimum value:\",min_val)\n",
    "print(\"Maximum value:\",max_val)"
   ]
  },
  {
   "cell_type": "code",
   "execution_count": 44,
   "id": "c4c3d999",
   "metadata": {},
   "outputs": [
    {
     "name": "stdout",
     "output_type": "stream",
     "text": [
      "minimum_value: 200\n",
      "maximum_value: 500\n"
     ]
    }
   ],
   "source": [
    "#sorted()\n",
    "d = {\"n1\":500,\"n2\":345,\"n3\":200,\"n4\":456}\n",
    "d1=d.values()\n",
    "d2 = sorted(d1)\n",
    "print(\"minimum_value:\",d2[0])\n",
    "print(\"maximum_value:\",d2[-1])"
   ]
  },
  {
   "cell_type": "code",
   "execution_count": 7,
   "id": "5be91b61",
   "metadata": {},
   "outputs": [
    {
     "name": "stdout",
     "output_type": "stream",
     "text": [
      "python\n",
      "laxmi\n"
     ]
    }
   ],
   "source": [
    "#access a particular item from the dictionary-> keys\n",
    "#v_n[\"key\"]\n",
    "\n",
    "print(d[\"course\"])\n",
    "print(d[\"name1\"])"
   ]
  },
  {
   "cell_type": "code",
   "execution_count": 8,
   "id": "b9f5684a",
   "metadata": {},
   "outputs": [
    {
     "name": "stdout",
     "output_type": "stream",
     "text": [
      "original dictionary: {'name': 'laxmi', 'age': 45, 'rollno': 101, 'course': 'python', 'name1': 'laxmi'}\n",
      "After replacing,the dictionary: {'name': 'laxmi', 'age': 45, 'rollno': 101, 'course': 'python', 'name1': 'kiran'}\n"
     ]
    }
   ],
   "source": [
    "#reassign -> keys\n",
    "#v_n[\"existing_key\"] = \"new_value\"\n",
    "\n",
    "print(\"original dictionary:\",d)\n",
    "d[\"name1\"]=\"kiran\"\n",
    "print(\"After replacing,the dictionary:\",d)"
   ]
  },
  {
   "cell_type": "code",
   "execution_count": 9,
   "id": "0f24f431",
   "metadata": {},
   "outputs": [
    {
     "name": "stdout",
     "output_type": "stream",
     "text": [
      "original dictionary: {'name': 'laxmi', 'age': 45, 'rollno': 101, 'course': 'python', 'name1': 'kiran'}\n",
      "After adding: {'name': 'laxmi', 'age': 45, 'rollno': 101, 'course': 'python', 'name1': 'kiran', 'address': 'Bangalore'}\n"
     ]
    }
   ],
   "source": [
    "#add only one item into dictionary\n",
    "#v_n[\"new_key\"]=\"new_value\"\n",
    "\n",
    "print(\"original dictionary:\",d)\n",
    "d[\"address\"]=\"Bangalore\"\n",
    "print(\"After adding:\",d)"
   ]
  },
  {
   "cell_type": "code",
   "execution_count": 10,
   "id": "a4256c09",
   "metadata": {},
   "outputs": [
    {
     "name": "stdout",
     "output_type": "stream",
     "text": [
      "original dictionary: {'name': 'laxmi', 'age': 45, 'rollno': 101, 'course': 'python', 'name1': 'kiran', 'address': 'Bangalore'}\n",
      "After adding multiple items: {'name': 'laxmi', 'age': 45, 'rollno': 101, 'course': 'python', 'name1': 'kiran', 'address': 'Bangalore', 'mother': 'gouri', 'father': 'koushal', 'brother': 'sai'}\n"
     ]
    }
   ],
   "source": [
    "#add multiple items at a time into the dictionary\n",
    "#v_n.update({\"key1\":\"val1\",\"key2\":\"val2\",------})\n",
    "\n",
    "print(\"original dictionary:\",d)\n",
    "d.update({\"mother\":\"gouri\",\"father\":\"koushal\",\"brother\":\"sai\"})\n",
    "print(\"After adding multiple items:\",d)"
   ]
  },
  {
   "cell_type": "code",
   "execution_count": 11,
   "id": "1d0eda04",
   "metadata": {},
   "outputs": [
    {
     "name": "stdout",
     "output_type": "stream",
     "text": [
      "original dictionary: {'name': 'laxmi', 'age': 45, 'rollno': 101, 'course': 'python', 'name1': 'kiran', 'address': 'Bangalore', 'mother': 'gouri', 'father': 'koushal', 'brother': 'sai'}\n",
      "kiran\n",
      "after removing: {'name': 'laxmi', 'age': 45, 'rollno': 101, 'course': 'python', 'address': 'Bangalore', 'mother': 'gouri', 'father': 'koushal', 'brother': 'sai'}\n"
     ]
    }
   ],
   "source": [
    "#delete-> pop(\"key\") - used to remove particular value.\n",
    "print(\"original dictionary:\",d)\n",
    "print(d.pop(\"name1\"))\n",
    "print(\"after removing:\",d)"
   ]
  },
  {
   "cell_type": "code",
   "execution_count": 12,
   "id": "114421f9",
   "metadata": {},
   "outputs": [
    {
     "name": "stdout",
     "output_type": "stream",
     "text": [
      "original dictionary: {'name': 'laxmi', 'age': 45, 'rollno': 101, 'course': 'python', 'address': 'Bangalore', 'mother': 'gouri', 'father': 'koushal', 'brother': 'sai'}\n",
      "('brother', 'sai')\n",
      "after removing: {'name': 'laxmi', 'age': 45, 'rollno': 101, 'course': 'python', 'address': 'Bangalore', 'mother': 'gouri', 'father': 'koushal'}\n"
     ]
    }
   ],
   "source": [
    "#popitem() -> default ,removes last item\n",
    "\n",
    "print(\"original dictionary:\",d)\n",
    "print(d.popitem())\n",
    "print(\"after removing:\",d)"
   ]
  },
  {
   "cell_type": "code",
   "execution_count": 13,
   "id": "b45a87db",
   "metadata": {},
   "outputs": [
    {
     "name": "stdout",
     "output_type": "stream",
     "text": [
      "{'name': 'laxmi', 'age': 45, 'course': 'python', 'address': 'Bangalore', 'mother': 'gouri', 'father': 'koushal'}\n"
     ]
    }
   ],
   "source": [
    "#del v_n[\"key\"] -> particular item\n",
    "\n",
    "del d[\"rollno\"]\n",
    "print(d)"
   ]
  },
  {
   "cell_type": "code",
   "execution_count": 16,
   "id": "a80241c7",
   "metadata": {},
   "outputs": [
    {
     "name": "stdout",
     "output_type": "stream",
     "text": [
      "{}\n"
     ]
    }
   ],
   "source": [
    "#clear() -> removes all items at a time.\n",
    "d.clear()\n",
    "print(d)"
   ]
  },
  {
   "cell_type": "code",
   "execution_count": 17,
   "id": "c5e2de8d",
   "metadata": {},
   "outputs": [
    {
     "ename": "NameError",
     "evalue": "name 'd' is not defined",
     "output_type": "error",
     "traceback": [
      "\u001b[1;31m---------------------------------------------------------------------------\u001b[0m",
      "\u001b[1;31mNameError\u001b[0m                                 Traceback (most recent call last)",
      "Input \u001b[1;32mIn [17]\u001b[0m, in \u001b[0;36m<cell line: 3>\u001b[1;34m()\u001b[0m\n\u001b[0;32m      1\u001b[0m \u001b[38;5;66;03m#del v_n\u001b[39;00m\n\u001b[0;32m      2\u001b[0m \u001b[38;5;28;01mdel\u001b[39;00m d\n\u001b[1;32m----> 3\u001b[0m \u001b[38;5;28mprint\u001b[39m(\u001b[43md\u001b[49m)\n",
      "\u001b[1;31mNameError\u001b[0m: name 'd' is not defined"
     ]
    }
   ],
   "source": [
    "#del v_n\n",
    "del d\n",
    "print(d)"
   ]
  },
  {
   "cell_type": "code",
   "execution_count": 15,
   "id": "6afc4cb8",
   "metadata": {},
   "outputs": [
    {
     "name": "stdout",
     "output_type": "stream",
     "text": [
      "{}\n",
      "<class 'dict'>\n",
      "{}\n",
      "<class 'dict'>\n"
     ]
    }
   ],
   "source": [
    "#create a empty dictionary\n",
    "\n",
    "d1 = {}\n",
    "print(d1)\n",
    "print(type(d1))\n",
    "\n",
    "d2 = dict()\n",
    "print(d2)\n",
    "print(type(d2))"
   ]
  },
  {
   "cell_type": "code",
   "execution_count": null,
   "id": "6a2500e4",
   "metadata": {},
   "outputs": [],
   "source": []
  }
 ],
 "metadata": {
  "kernelspec": {
   "display_name": "Python 3 (ipykernel)",
   "language": "python",
   "name": "python3"
  },
  "language_info": {
   "codemirror_mode": {
    "name": "ipython",
    "version": 3
   },
   "file_extension": ".py",
   "mimetype": "text/x-python",
   "name": "python",
   "nbconvert_exporter": "python",
   "pygments_lexer": "ipython3",
   "version": "3.10.4"
  }
 },
 "nbformat": 4,
 "nbformat_minor": 5
}
